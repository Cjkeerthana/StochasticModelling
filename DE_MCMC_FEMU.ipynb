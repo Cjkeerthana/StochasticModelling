{
 "cells": [
  {
   "cell_type": "code",
   "execution_count": 1,
   "metadata": {},
   "outputs": [],
   "source": [
    "import numpy as np\n",
    "import scipy.stats\n",
    "import matplotlib.pyplot as plt"
   ]
  },
  {
   "cell_type": "code",
   "execution_count": 3,
   "metadata": {},
   "outputs": [],
   "source": [
    "def sample_vector(theta):\n",
    "    theta_dim = theta.shape[0]\n",
    "    theta_idx = int(np.random.uniform(0,theta_dim))\n",
    "    return theta[theta_idx]"
   ]
  },
  {
   "cell_type": "code",
   "execution_count": 4,
   "metadata": {},
   "outputs": [],
   "source": [
    "def equality(a,b):\n",
    "    c = (a == b)\n",
    "    boolean = True\n",
    "    for i in range(c.shape[0]):\n",
    "        boolean *= c[i]\n",
    "    return boolean"
   ]
  },
  {
   "cell_type": "code",
   "execution_count": 5,
   "metadata": {},
   "outputs": [],
   "source": [
    "def less_than(a,b):\n",
    "    c = (a < b)\n",
    "    boolean = True\n",
    "    for i in range(c.shape[0]):\n",
    "        boolean *= c[i]\n",
    "    return boolean"
   ]
  },
  {
   "cell_type": "code",
   "execution_count": 6,
   "metadata": {},
   "outputs": [],
   "source": [
    "def greater_than(a,b):\n",
    "    c = (a > b)\n",
    "    boolean = True\n",
    "    for i in range(c.shape[0]):\n",
    "        boolean *= c[i]\n",
    "    return boolean"
   ]
  },
  {
   "cell_type": "code",
   "execution_count": 7,
   "metadata": {},
   "outputs": [],
   "source": [
    "def transition_model(curr_theta,theta):\n",
    "    d = curr_theta.shape[0]\n",
    "    gamma = 2.38/np.sqrt(2*d)\n",
    "    \n",
    "    theta_a = theta[0]\n",
    "    \n",
    "    while(equality(theta_a, curr_theta)):\n",
    "        theta_a = sample_vector(theta)\n",
    "    theta_b = sample_vector(theta)\n",
    "    while(equality(theta_b, curr_theta) or equality(theta_a, theta_b)):\n",
    "        theta_b = sample_vector(theta)\n",
    "    \n",
    "    var = 0.1\n",
    "    eps = np.zeros(d)\n",
    "    \n",
    "    eps = np.random.normal(0,var,size=(d))\n",
    "    \n",
    "    new_theta = curr_theta + gamma*(theta_a-theta_b) + eps\n",
    "\n",
    "    return new_theta"
   ]
  },
  {
   "cell_type": "code",
   "execution_count": 8,
   "metadata": {},
   "outputs": [],
   "source": [
    "def prior(theta):\n",
    "    if(np.any(theta) <= 0):\n",
    "        return 0\n",
    "    return 1"
   ]
  },
  {
   "cell_type": "code",
   "execution_count": 9,
   "metadata": {},
   "outputs": [],
   "source": [
    "def posterior_fn(theta, theta_0, freq, freq_exp, beta, alpha, Z):\n",
    "    N_m = freq.shape[0]\n",
    "    Q = theta.shape[0]\n",
    "    tmp1 = 0\n",
    "    for i in range(N_m):\n",
    "        tmp1 += ((freq_exp[i] - freq[i])/freq_exp[i])**2\n",
    "    tmp2 = 0\n",
    "    norm = np.linalg.norm(theta-theta_0,2)\n",
    "    for i in range(Q):\n",
    "        tmp2 += alpha[i]/2 * norm**2\n",
    "    posterior = 1/Z * np.exp(-beta/2*tmp1-tmp2)\n",
    "    \n",
    "    return posterior"
   ]
  },
  {
   "cell_type": "code",
   "execution_count": null,
   "metadata": {},
   "outputs": [],
   "source": [
    "def acceptance_rule(z, z_new):\n",
    "    if z_new>z:\n",
    "        return True\n",
    "    else:\n",
    "        u = np.random.uniform(0,1)\n",
    "        return (u < z_new/z)"
   ]
  },
  {
   "cell_type": "code",
   "execution_count": 10,
   "metadata": {},
   "outputs": [],
   "source": [
    "N = 10\n",
    "theta_init = np.array([])\n",
    "d = theta_init.shape[0]\n",
    "theta_pop = np.zeros((N,d))\n",
    "theta_max = np.array([4600,2600,2670,3400,2750])\n",
    "theta_min = np.array([3200,1800,1600,1800,2050])\n",
    "theta_pop[0, :] = theta_init\n",
    "for i in range(1,N):\n",
    "    theta_pop[i] = np.random.uniform(theta_min, theta_max)\n"
   ]
  },
  {
   "cell_type": "code",
   "execution_count": 11,
   "metadata": {},
   "outputs": [],
   "source": [
    "def DE_metropolis_hastings(lkh_fnc, prior, transition_model, theta_pop, traj_len, data, acceptance_rule):\n",
    "    \n",
    "    curr_theta = theta_0\n",
    "    samples = []\n",
    "    n_acc = 0\n",
    "    n_rej = 0\n",
    "    for i in range(traj_len):\n",
    "        new_theta = transition_model(curr_theta, theta_pop)\n",
    "        curr_lkh = lkh_fnc(curr_theta,data)\n",
    "        new_lkh = lkh_fnc(new_theta,data)\n",
    "        \n",
    "        if(acceptance_rule(curr_lkh + np.log(prior(curr_theta)), new_lkh + np.log(prior(new_theta)))):\n",
    "            curr_theta = new_theta\n",
    "            samples.append(new_theta)\n",
    "            n_acc += 1\n",
    "        else:\n",
    "            samples.append(curr_theta)\n",
    "            n_rej += 1\n",
    "    print(\"chain generated\", n_rej)\n",
    "    return samples, n_rej, curr_theta"
   ]
  },
  {
   "cell_type": "code",
   "execution_count": 13,
   "metadata": {},
   "outputs": [
    {
     "name": "stderr",
     "output_type": "stream",
     "text": [
      "/usr/local/lib/python3.6/dist-packages/ipykernel_launcher.py:6: RuntimeWarning: invalid value encountered in double_scalars\n",
      "  \n"
     ]
    },
    {
     "name": "stdout",
     "output_type": "stream",
     "text": [
      "Chain generated\n",
      "9994\n",
      "Chain generated\n",
      "9994\n",
      "Chain generated\n",
      "9995\n",
      "Chain generated\n",
      "9994\n",
      "Chain generated\n",
      "9994\n",
      "Chain generated\n",
      "9994\n",
      "Chain generated\n",
      "9994\n",
      "Chain generated\n",
      "9994\n",
      "Chain generated\n",
      "9994\n",
      "Chain generated\n",
      "9993\n"
     ]
    }
   ],
   "source": [
    "N_s = 10000\n",
    "all_chains = np.zeros((N, N_s, d))\n",
    "for i in range(N):\n",
    "    n_accept = 0\n",
    "    n_rej = 0\n",
    "    samples = []\n",
    "    curr_theta = theta_pop[i]\n",
    "    curr_lkh = \n",
    "    for j in range(N_s):\n",
    "        new_theta = transition_model(curr_theta,theta_pop)\n",
    "        posterior_new = posterior_fn(new_theta, theta_0, freq, freq_exp, beta, alpha,Z)\n",
    "        if(acceptance_rule(posterior_curr, posterior_new)):\n",
    "            curr_theta = new_theta\n",
    "            posterior_curr = posterior_new\n",
    "            samples.append(new_theta)\n",
    "            n_accept += 1\n",
    "        else:\n",
    "            samples.append(curr_theta)\n",
    "            n_rej += 1\n",
    "    \n",
    "    print(\"Chain generated\")\n",
    "    print(n_rej)\n",
    "    all_chains[i] = np.array(samples)"
   ]
  },
  {
   "cell_type": "code",
   "execution_count": 14,
   "metadata": {},
   "outputs": [
    {
     "name": "stdout",
     "output_type": "stream",
     "text": [
      "[4264.64620505 2550.37006144 1400.1167698  2982.65554037 2144.15264017]\n",
      "[3200 1800 1600 1800 2050]\n",
      "[4600 2600 2670 3400 2750]\n"
     ]
    }
   ],
   "source": [
    "new_theta = transition_model(theta_pop[0], theta_pop)\n",
    "print(new_theta)\n",
    "print(theta_min)\n",
    "print(theta_max)"
   ]
  },
  {
   "cell_type": "code",
   "execution_count": 15,
   "metadata": {},
   "outputs": [
    {
     "data": {
      "text/plain": [
       "[<matplotlib.lines.Line2D at 0x7fa720a7b898>]"
      ]
     },
     "execution_count": 15,
     "metadata": {},
     "output_type": "execute_result"
    },
    {
     "data": {
      "image/png": "[encoded data removed]",
      "text/plain": [
       "<Figure size 432x288 with 1 Axes>"
      ]
     },
     "metadata": {
      "needs_background": "light"
     },
     "output_type": "display_data"
    }
   ],
   "source": [
    "plt.plot(all_chains[5,:,0],all_chains[5,:,1],'o')"
   ]
  }
 ],
 "metadata": {
  "kernelspec": {
   "display_name": "Python 3",
   "language": "python",
   "name": "python3"
  },
  "language_info": {
   "codemirror_mode": {
    "name": "ipython",
    "version": 3
   },
   "file_extension": ".py",
   "mimetype": "text/x-python",
   "name": "python",
   "nbconvert_exporter": "python",
   "pygments_lexer": "ipython3",
   "version": "3.6.9"
  }
 },
 "nbformat": 4,
 "nbformat_minor": 2
}
