{
 "cells": [
  {
   "cell_type": "code",
   "execution_count": 1,
   "metadata": {},
   "outputs": [],
   "source": [
    "import numpy as np\n",
    "import scipy.stats\n",
    "import matplotlib.pyplot as plt"
   ]
  },
  {
   "cell_type": "markdown",
   "metadata": {},
   "source": [
    "\n",
    "## Metropolis-Hasting \n",
    "Implement the Metropolis-Hasting algorithm to estimate the distributions of parameters given a set of observations about the distribution that may have generated your data.\n",
    "\n",
    "Consider a set of observations generated according to a mixture of 3 two-dimensional Gaussians:\n",
    "\n",
    "$$ p(\\mathbf{x}\\mid\\theta) = \\sum_{k=1}^3 w_k \\cdot \\mathcal{N}(\\mathbf{x}\\mid \\mu_k, \\Sigma_k),$$\n",
    "\n",
    "where $\\mu_k = [\\mu_k^{(1)}, \\mu_k^{(2)}]$ and $\\Sigma_k$ is the $2\\times 2$ precision matrix. Here $\\theta = \\{(w_i,\\mu_i,\\Sigma_i)\\}_{i=1}^3$.\n",
    "\n",
    "**REMARK:** The model $p(\\mathbf{x}\\mid\\theta)$ is a distribution over $\\mathcal{X}$, i.e., a sample from it is an an observation $\\mathbf{x}$. Whereas, the distribution $p(\\theta\\mid\\mathcal{D})$ is a distribution over $\\Theta$, i.e., each sample from it is a parameter $\\theta$."
   ]
  },
  {
   "cell_type": "markdown",
   "metadata": {},
   "source": [
    "### Generate dataset\n",
    "Choose a set of parameters and generate samples from the resulting distribtion. The goal is to learn a distribution over the parameters space that capture well the real parameters."
   ]
  },
  {
   "cell_type": "code",
   "execution_count": 2,
   "metadata": {},
   "outputs": [],
   "source": [
    "def sample_from_model(theta, n_samples):\n",
    "    ni = int(n_samples/3)\n",
    "    mu_1 = theta[0:2]\n",
    "    mu_2 = theta[2:4]\n",
    "    mu_3 = theta[4:6]\n",
    "    dim = mu_1.shape[0]\n",
    "    cov_matrix_1 = np.diag(theta[6]*np.ones(dim))\n",
    "    cov_matrix_2 = np.diag(theta[7]*np.ones(dim))\n",
    "    cov_matrix_3 = np.diag(theta[8]*np.ones(dim))\n",
    "    \n",
    "    samples_1=scipy.stats.multivariate_normal.rvs(mu_1,cov_matrix_1, ni)\n",
    "    samples_2=scipy.stats.multivariate_normal.rvs(mu_2,cov_matrix_2, ni)\n",
    "    samples_3=scipy.stats.multivariate_normal.rvs(mu_3,cov_matrix_3, ni)\n",
    "    \n",
    "    samples = np.vstack((samples_1,samples_2,samples_3))\n",
    "    return samples"
   ]
  },
  {
   "cell_type": "code",
   "execution_count": 3,
   "metadata": {},
   "outputs": [],
   "source": [
    "real_param = np.array([1,4,4,1,6,6,1.5,2,3])\n",
    "observations = sample_from_model(real_param, n_samples = 3000)"
   ]
  },
  {
   "cell_type": "code",
   "execution_count": 4,
   "metadata": {},
   "outputs": [
    {
     "data": {
      "image/png": "[encoded data removed]",
      "text/plain": [
       "<Figure size 432x288 with 1 Axes>"
      ]
     },
     "metadata": {
      "needs_background": "light"
     },
     "output_type": "display_data"
    }
   ],
   "source": [
    "plt.hist2d(observations[:,0], observations[:,1], bins=100)\n",
    "plt.xlabel(\"$x_1$\")\n",
    "plt.ylabel(\"$x_2$\")\n",
    "plt.title(\"Observed data\")\n",
    "plt.show()"
   ]
  },
  {
   "cell_type": "markdown",
   "metadata": {},
   "source": [
    "### Metro Polis Hastings Algorithm\n"
   ]
  },
  {
   "cell_type": "code",
   "execution_count": 5,
   "metadata": {},
   "outputs": [],
   "source": [
    "def transition_model(curr_theta):\n",
    "    c = 0.1\n",
    "    new_theta = np.random.uniform(curr_theta-c, curr_theta+c)\n",
    "    while(np.any(new_theta) < 0):\n",
    "        new_theta = np.random.uniform(curr_theta-c, curr_theta+c)\n",
    "    return new_theta "
   ]
  },
  {
   "cell_type": "code",
   "execution_count": 6,
   "metadata": {},
   "outputs": [],
   "source": [
    "def prior(theta):\n",
    "    if(np.any(theta) <= 0):\n",
    "        return 0\n",
    "    return 1"
   ]
  },
  {
   "cell_type": "code",
   "execution_count": 7,
   "metadata": {},
   "outputs": [],
   "source": [
    "def log_lkh(theta, data):\n",
    "    mu_1 = theta[0:2]\n",
    "    mu_2 = theta[2:4]\n",
    "    mu_3 = theta[4:6]\n",
    "    dim = mu_1.shape[0]\n",
    "    cov_matrix_1 = np.diag(theta[6]*np.ones(dim))\n",
    "    cov_matrix_2 = np.diag(theta[7]*np.ones(dim))\n",
    "    cov_matrix_3 = np.diag(theta[8]*np.ones(dim))\n",
    "    \n",
    "    comp_1 = scipy.stats.multivariate_normal(mu_1, cov_matrix_1).pdf(data)\n",
    "    comp_2 = scipy.stats.multivariate_normal(mu_2, cov_matrix_2).pdf(data)\n",
    "    comp_3 = scipy.stats.multivariate_normal(mu_3, cov_matrix_3).pdf(data)\n",
    "    \n",
    "    return np.sum(np.log((comp_1+comp_2+comp_3)/3))"
   ]
  },
  {
   "cell_type": "code",
   "execution_count": 8,
   "metadata": {},
   "outputs": [],
   "source": [
    "def acceptance_rule(z, z_new):\n",
    "    if z_new>z:\n",
    "        return True\n",
    "    else:\n",
    "        u = np.random.uniform(0,1)\n",
    "        return (u < np.exp(z_new-z))"
   ]
  },
  {
   "cell_type": "code",
   "execution_count": 9,
   "metadata": {},
   "outputs": [],
   "source": [
    "def metropolis_hastings(lkh_fnc, prior, transition_model, theta_0, traj_len, data, acceptance_rule):\n",
    "    \n",
    "    curr_theta = theta_0\n",
    "    samples = []\n",
    "    n_acc = 0\n",
    "    n_rej = 0\n",
    "    for i in range(traj_len):\n",
    "        new_theta = transition_model(curr_theta)\n",
    "        curr_lkh = lkh_fnc(curr_theta,data)\n",
    "        new_lkh = lkh_fnc(new_theta,data)\n",
    "        \n",
    "        if(acceptance_rule(curr_lkh + np.log(prior(curr_theta)), new_lkh + np.log(prior(new_theta)))):\n",
    "            curr_theta = new_theta\n",
    "            samples.append(new_theta)\n",
    "            n_acc += 1\n",
    "        else:\n",
    "            samples.append(curr_theta)\n",
    "            n_rej += 1\n",
    "    print(\"chain generated\", n_rej)\n",
    "    return samples, n_rej"
   ]
  },
  {
   "cell_type": "code",
   "execution_count": 12,
   "metadata": {},
   "outputs": [
    {
     "name": "stdout",
     "output_type": "stream",
     "text": [
      "chain generated 4118\n"
     ]
    }
   ],
   "source": [
    "n_param = 9\n",
    "theta_0 = np.random.uniform(0,5, (n_param,))\n",
    "\n",
    "traj_len = 5000\n",
    "\n",
    "samples, n_rej = metropolis_hastings(log_lkh, prior, transition_model, theta_0, traj_len, observations, acceptance_rule)"
   ]
  },
  {
   "cell_type": "code",
   "execution_count": 13,
   "metadata": {},
   "outputs": [
    {
     "data": {
      "image/png": "[encoded data removed]",
      "text/plain": [
       "<Figure size 432x288 with 1 Axes>"
      ]
     },
     "metadata": {
      "needs_background": "light"
     },
     "output_type": "display_data"
    },
    {
     "data": {
      "image/png": "[encoded data removed]",
      "text/plain": [
       "<Figure size 432x288 with 1 Axes>"
      ]
     },
     "metadata": {
      "needs_background": "light"
     },
     "output_type": "display_data"
    }
   ],
   "source": [
    "samples = np.asarray(samples)\n",
    "# first parameter\n",
    "plt.plot(np.arange(traj_len), samples[:,0])\n",
    "plt.xlabel(\"accepted samples\")\n",
    "plt.ylabel(\"$\\\\theta_1$\")\n",
    "plt.show()\n",
    "\n",
    "plt.hist(samples[:, 0])\n",
    "plt.xlabel(\"$\\\\theta_1$\")\n",
    "plt.show()"
   ]
  },
  {
   "cell_type": "markdown",
   "metadata": {},
   "source": [
    "### Differential Evolution MCMC:"
   ]
  },
  {
   "cell_type": "code",
   "execution_count": 14,
   "metadata": {},
   "outputs": [],
   "source": [
    "def less_than(a,val):\n",
    "    c = (a < val)\n",
    "    boolean = False\n",
    "    for i in range(c.shape[0]):\n",
    "        boolean += c[i]\n",
    "    return boolean"
   ]
  },
  {
   "cell_type": "code",
   "execution_count": 87,
   "metadata": {},
   "outputs": [],
   "source": [
    "def transition_model1(curr_theta, theta_population, ind):\n",
    "    N = theta_population.shape[0]\n",
    "    d = theta_population.shape[1]\n",
    "    \n",
    "    gamma = 2.38/np.sqrt(2*d)\n",
    "    \n",
    "    a = int(np.random.uniform(0,N))\n",
    "    while (a == ind):\n",
    "        a = int(np.random.uniform(0,N))\n",
    "\n",
    "    b = int(np.random.uniform(0,N))\n",
    "    while (b == ind or a == b):\n",
    "        b = int(np.random.uniform(0,N))\n",
    "    \n",
    "    theta_a = theta_population[a]\n",
    "    theta_b = theta_population[b]\n",
    "        \n",
    "    var = 1\n",
    "    eps = np.random.uniform(0,var,size=(d))\n",
    "    \n",
    "    new_theta = curr_theta + gamma*(theta_a-theta_b) + eps\n",
    "    \n",
    "    while(less_than(new_theta,0)):\n",
    "        new_theta = transition_model(curr_theta)\n",
    "\n",
    "    return new_theta"
   ]
  },
  {
   "cell_type": "code",
   "execution_count": 88,
   "metadata": {},
   "outputs": [],
   "source": [
    "def DE_metropolis_hastings(lkh_fnc, prior, transition_model, theta_population, traj_len, data, acceptance_rule):\n",
    "    N = theta_population.shape[0]\n",
    "    all_chains = []\n",
    "    for j in range(N):\n",
    "        curr_theta = theta_population[j]\n",
    "        samples = []\n",
    "        n_acc = 0\n",
    "        n_rej = 0\n",
    "        for i in range(traj_len):\n",
    "            new_theta = transition_model(curr_theta, theta_population, j)\n",
    "            #print(new_theta)\n",
    "            curr_lkh = lkh_fnc(curr_theta,data)\n",
    "            new_lkh = lkh_fnc(new_theta,data)\n",
    "\n",
    "            if(acceptance_rule(curr_lkh + np.log(prior(curr_theta)), new_lkh + np.log(prior(new_theta)))):\n",
    "                curr_theta = new_theta\n",
    "                theta_population[j] = new_theta\n",
    "                samples.append(new_theta)\n",
    "                n_acc += 1\n",
    "            else:\n",
    "                samples.append(curr_theta)\n",
    "                n_rej += 1\n",
    "        print(\"chain generated\", n_rej)\n",
    "        all_chains.append(samples)\n",
    "    return all_chains"
   ]
  },
  {
   "cell_type": "code",
   "execution_count": 89,
   "metadata": {},
   "outputs": [],
   "source": [
    "N = 10\n",
    "theta_population = np.zeros((N, n_param))\n",
    "for i in range(N):\n",
    "    theta_population[i] = np.random.uniform(0,5, (n_param,))"
   ]
  },
  {
   "cell_type": "code",
   "execution_count": 91,
   "metadata": {},
   "outputs": [
    {
     "name": "stdout",
     "output_type": "stream",
     "text": [
      "chain generated 4000\n",
      "chain generated 3838\n",
      "chain generated 3801\n",
      "chain generated 3725\n",
      "chain generated 3711\n",
      "chain generated 3715\n",
      "chain generated 3764\n",
      "chain generated 3824\n",
      "chain generated 3775\n",
      "chain generated 3742\n"
     ]
    }
   ],
   "source": [
    "traj_len = 4000\n",
    "all_chains = DE_metropolis_hastings(log_lkh, prior, transition_model1, theta_population, traj_len, observations, acceptance_rule)"
   ]
  },
  {
   "cell_type": "code",
   "execution_count": 92,
   "metadata": {},
   "outputs": [
    {
     "data": {
      "text/plain": [
       "(10, 4000, 9)"
      ]
     },
     "execution_count": 92,
     "metadata": {},
     "output_type": "execute_result"
    }
   ],
   "source": [
    "all_chains = np.asarray(all_chains)\n",
    "all_chains.shape"
   ]
  },
  {
   "cell_type": "code",
   "execution_count": 108,
   "metadata": {},
   "outputs": [
    {
     "data": {
      "image/png": "[encoded data removed]",
      "text/plain": [
       "<Figure size 432x288 with 1 Axes>"
      ]
     },
     "metadata": {
      "needs_background": "light"
     },
     "output_type": "display_data"
    }
   ],
   "source": [
    "samples = all_chains[9, : , :]\n",
    "plt.plot(np.arange(traj_len), samples[:,1])\n",
    "plt.xlabel(\"accepted samples\")\n",
    "plt.ylabel(\"$\\\\theta_1$\")\n",
    "plt.show()"
   ]
  },
  {
   "cell_type": "code",
   "execution_count": 94,
   "metadata": {},
   "outputs": [],
   "source": [
    "first_sample = sample_from_model(samples[0], 30000)\n",
    "last_sample = sample_from_model(samples[-1], 30000)"
   ]
  },
  {
   "cell_type": "code",
   "execution_count": 95,
   "metadata": {},
   "outputs": [
    {
     "data": {
      "image/png": "[encoded data removed]",
      "text/plain": [
       "<Figure size 432x288 with 1 Axes>"
      ]
     },
     "metadata": {
      "needs_background": "light"
     },
     "output_type": "display_data"
    }
   ],
   "source": [
    "plt.hist2d(first_sample[:,0], first_sample[:,1], bins=100)\n",
    "plt.title(\"First sample\")\n",
    "plt.show()"
   ]
  },
  {
   "cell_type": "code",
   "execution_count": 96,
   "metadata": {},
   "outputs": [
    {
     "data": {
      "image/png": "[encoded data removed]",
      "text/plain": [
       "<Figure size 432x288 with 1 Axes>"
      ]
     },
     "metadata": {
      "needs_background": "light"
     },
     "output_type": "display_data"
    }
   ],
   "source": [
    "plt.hist2d(last_sample[:,0], last_sample[:,1], bins=100)\n",
    "plt.show(\"Last sample\")"
   ]
  },
  {
   "cell_type": "code",
   "execution_count": 97,
   "metadata": {},
   "outputs": [
    {
     "name": "stdout",
     "output_type": "stream",
     "text": [
      "(10, 2000, 9)\n",
      "(20, 1000, 9)\n"
     ]
    }
   ],
   "source": [
    "n = int(traj_len/4)\n",
    "no_burnin_chains=all_chains[:,2*n:,:]\n",
    "print(no_burnin_chains.shape)\n",
    "chains=np.vstack((no_burnin_chains[:,:n,:], no_burnin_chains[:,n:,:]))\n",
    "print(chains.shape)"
   ]
  },
  {
   "cell_type": "code",
   "execution_count": 98,
   "metadata": {},
   "outputs": [],
   "source": [
    "psi = lambda par: log_lkh(par, observations)"
   ]
  },
  {
   "cell_type": "code",
   "execution_count": 99,
   "metadata": {},
   "outputs": [],
   "source": [
    "def between_variance(chains):\n",
    "    # chains is a m x n matrix\n",
    "    m, n, _ = chains.shape\n",
    "    psi_bar_j = np.zeros(m)\n",
    "    for i in range(m):\n",
    "        psi_bar_j[i] = np.mean(np.array([psi(th_i) for th_i in chains[j]]))\n",
    "    psi_bar = np.mean(psi_bar_j)\n",
    "    B = np.sum((psi_bar_j-psi_bar)**2)*n/(m-1)\n",
    "    return B"
   ]
  },
  {
   "cell_type": "code",
   "execution_count": 100,
   "metadata": {},
   "outputs": [],
   "source": [
    "def within_variance(chains):\n",
    "    # chains is a m x n matrix\n",
    "    m, n, _= chains.shape\n",
    "    bar_psi_j = np.empty(m)\n",
    "    s_j = np.empty(m)\n",
    "    for j in range(m):\n",
    "        psi_ij=np.array([psi(th_i) for th_i in chains[j]])\n",
    "        bar_psi_j[j] = np.mean(psi_ij)\n",
    "        s_j[j] = np.sum((psi_ij-bar_psi_j[j])**2)/(n-1)\n",
    "\n",
    "    W = np.mean(s_j)\n",
    "    \n",
    "    return W"
   ]
  },
  {
   "cell_type": "code",
   "execution_count": 101,
   "metadata": {},
   "outputs": [],
   "source": [
    "def var_plus_psi(chains):\n",
    "    m,n, _ = chains.shape\n",
    "    B = between_variance(chains)\n",
    "    W = within_variance(chains)\n",
    "    return (W*(n-1)+B)/n"
   ]
  },
  {
   "cell_type": "code",
   "execution_count": 102,
   "metadata": {},
   "outputs": [],
   "source": [
    "def var_plus_psi_fast(chains):\n",
    "    m,n, _= chains.shape\n",
    "    psi_ij = np.array([[psi(th_i) for th_i in chains[j]] for j in range(m)])\n",
    "    bar_psi_j = np.mean(psi_ij, axis=1)\n",
    "    bar_psi = np.mean(bar_psi_j)\n",
    "    B=np.sum((bar_psi_j-bar_psi)**2)*n/(m-1)\n",
    "    s_j=np.sum((psi_ij-bar_psi_j.reshape(m,1))**2, axis=1)/(n-1)\n",
    "    W=np.mean(s_j)\n",
    "    \n",
    "    return (W*(n-1)+B)/n, W, B"
   ]
  },
  {
   "cell_type": "code",
   "execution_count": 103,
   "metadata": {},
   "outputs": [],
   "source": [
    "def R_hat(chains):\n",
    "    W = within_variance(chains)\n",
    "    var_p = var_plus_psi(chains)\n",
    "    \n",
    "    return np.sqrt(var_p/W)"
   ]
  },
  {
   "cell_type": "code",
   "execution_count": 104,
   "metadata": {},
   "outputs": [],
   "source": [
    "def R_hat_fast(chains):\n",
    "    var_p, W, _= var_plus_psi_fast(chains)\n",
    "    return np.sqrt(var_p/W)"
   ]
  },
  {
   "cell_type": "code",
   "execution_count": 105,
   "metadata": {},
   "outputs": [
    {
     "name": "stdout",
     "output_type": "stream",
     "text": [
      "188.09831862643736\n"
     ]
    }
   ],
   "source": [
    "print(R_hat_fast(chains))"
   ]
  }
 ],
 "metadata": {
  "kernelspec": {
   "display_name": "Python 3",
   "language": "python",
   "name": "python3"
  },
  "language_info": {
   "codemirror_mode": {
    "name": "ipython",
    "version": 3
   },
   "file_extension": ".py",
   "mimetype": "text/x-python",
   "name": "python",
   "nbconvert_exporter": "python",
   "pygments_lexer": "ipython3",
   "version": "3.6.9"
  }
 },
 "nbformat": 4,
 "nbformat_minor": 2
}
